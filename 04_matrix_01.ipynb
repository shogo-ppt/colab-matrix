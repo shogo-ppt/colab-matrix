{
  "nbformat": 4,
  "nbformat_minor": 0,
  "metadata": {
    "colab": {
      "name": "04_matrix_01",
      "provenance": [],
      "authorship_tag": "ABX9TyP6y5rtx5zPVQyYLY1Y+Q/S",
      "include_colab_link": true
    },
    "kernelspec": {
      "name": "python3",
      "display_name": "Python 3"
    },
    "language_info": {
      "name": "python"
    }
  },
  "cells": [
    {
      "cell_type": "markdown",
      "metadata": {
        "id": "view-in-github",
        "colab_type": "text"
      },
      "source": [
        "<a href=\"https://colab.research.google.com/github/shogo-ppt/colab/blob/main/04_matrix_01.ipynb\" target=\"_parent\"><img src=\"https://colab.research.google.com/assets/colab-badge.svg\" alt=\"Open In Colab\"/></a>"
      ]
    },
    {
      "cell_type": "code",
      "metadata": {
        "colab": {
          "base_uri": "https://localhost:8080/"
        },
        "id": "T2HgdkbEmToC",
        "outputId": "37d8a318-f81b-4e8e-d334-d2fe768dc1f8"
      },
      "source": [
        "# -*- coding: utf-8 -*-\n",
        "\"\"\"\n",
        "Created on Mon May 17 11:07:45 2021\n",
        "\n",
        "@author: legon\n",
        "\"\"\"\n",
        "\n",
        "import sympy\n",
        "\n",
        "print('Matrix([[a,b],[c,d]]')\n",
        "\n",
        "a = int(input('a:'))\n",
        "b = int(input('b:'))\n",
        "c = int(input('c:'))\n",
        "d = int(input('d:'))\n",
        "mod = int(input('mod:'))\n",
        "print()\n",
        "\n",
        "A = sympy.Matrix([[a,b],[c,d]])\n",
        "A2 = A.det()\n",
        "\n",
        "# 最小正剰余\n",
        "if A2 < 0:\n",
        "    A3 = A2 + mod\n",
        "elif A2 < mod:\n",
        "    A3 = mod\n",
        "else:\n",
        "    A3 = A2 % mod\n",
        "\n",
        "print('A =',A) # 行列の表示\n",
        "A_1 = A.inv()\n",
        "print('A**(-1) =',A_1) # #逆行列の表示\n",
        "print()\n",
        "\n",
        "print('----------------------------------------')\n",
        "print('#',A3,'x ≡ 1 (mod',mod,')を解く')\n",
        "print('----------------------------------------')\n",
        "print('|A| =',A2,'≡',A3,'(mod)',mod) # \n",
        "print()\n",
        "\n",
        "A4 = A2 * A_1\n",
        "print('A**(-1) ≡',A4,'より')\n",
        "\n",
        "x,y,t = sympy.gcdex(A3,mod)\n",
        "A5 = x * A4\n",
        "a,b,c,d = A5\n",
        "a %= mod\n",
        "b %= mod\n",
        "c %= mod\n",
        "d %= mod\n",
        "A6 = sympy.Matrix([[a,b],[c,d]])\n",
        "print('A**(-1) ≡',x,'*',A4,'≡',A5,'≡',A6,'(mod',mod,')')\n",
        "print()\n",
        "\n",
        "E = A * A6\n",
        "a,b,c,d = E\n",
        "a %= mod\n",
        "b %= mod\n",
        "c %= mod\n",
        "d %= mod\n",
        "E = sympy.Matrix([[a,b],[c,d]])\n",
        "print('検算：',A,'*',A6,'≡',E)"
      ],
      "execution_count": null,
      "outputs": [
        {
          "output_type": "stream",
          "text": [
            "Matrix([[a,b],[c,d]]\n",
            "a:2\n",
            "b:3\n",
            "c:7\n",
            "d:8\n",
            "mod:26\n",
            "\n",
            "A = Matrix([[2, 3], [7, 8]])\n",
            "A**(-1) = Matrix([[-8/5, 3/5], [7/5, -2/5]])\n",
            "\n",
            "----------------------------------------\n",
            "# 21 x ≡ 1 (mod 26 )を解く\n",
            "----------------------------------------\n",
            "|A| = -5 ≡ 21 (mod) 26\n",
            "\n",
            "A**(-1) ≡ Matrix([[8, -3], [-7, 2]]) より\n",
            "A**(-1) ≡ 5 * Matrix([[8, -3], [-7, 2]]) ≡ Matrix([[40, -15], [-35, 10]]) ≡ Matrix([[14, 11], [17, 10]]) (mod 26 )\n",
            "\n",
            "検算： Matrix([[2, 3], [7, 8]]) * Matrix([[14, 11], [17, 10]]) ≡ Matrix([[1, 0], [0, 1]])\n"
          ],
          "name": "stdout"
        }
      ]
    }
  ]
}